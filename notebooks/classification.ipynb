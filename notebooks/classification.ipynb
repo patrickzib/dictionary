{
 "cells": [
  {
   "cell_type": "markdown",
   "id": "554f23a6",
   "metadata": {
    "pycharm": {
     "name": "#%% md\n"
    }
   },
   "source": [
    "# Univariate time series classification with WEASEL 2.0\n",
    "\n",
    "WEASEL 2.0 is build upon the aeon/sklearn-APIs."
   ]
  },
  {
   "cell_type": "markdown",
   "id": "4abb5608",
   "metadata": {
    "pycharm": {
     "name": "#%% md\n"
    }
   },
   "source": [
    "First, we import the requires libraries"
   ]
  },
  {
   "cell_type": "code",
   "id": "323d16ec",
   "metadata": {
    "pycharm": {
     "name": "#%%\n"
    },
    "ExecuteTime": {
     "end_time": "2025-05-02T11:24:48.617355Z",
     "start_time": "2025-05-02T11:24:48.613456Z"
    }
   },
   "source": [
    "import time\n",
    "import numpy as np\n",
    "from aeon.datasets import load_arrow_head\n",
    "from weasel.classification.dictionary_based import WEASEL_V2"
   ],
   "outputs": [],
   "execution_count": 9
  },
  {
   "cell_type": "markdown",
   "id": "3dea8779",
   "metadata": {
    "pycharm": {
     "name": "#%% md\n"
    }
   },
   "source": [
    "Next, we load the arrow-head dataset"
   ]
  },
  {
   "cell_type": "code",
   "id": "307b08a3",
   "metadata": {
    "pycharm": {
     "name": "#%%\n"
    },
    "ExecuteTime": {
     "end_time": "2025-05-02T11:24:48.658172Z",
     "start_time": "2025-05-02T11:24:48.639652Z"
    }
   },
   "source": [
    "X_train, y_train = load_arrow_head(split=\"train\")\n",
    "X_test, y_test = load_arrow_head(split=\"test\")\n",
    "\n",
    "print(\"Shape of Train Data:\", X_train.shape)\n",
    "print(\"Shape of Test Data:\", X_test.shape)"
   ],
   "outputs": [
    {
     "name": "stdout",
     "output_type": "stream",
     "text": [
      "Shape of Train Data: (36, 1, 251)\n",
      "Shape of Test Data: (175, 1, 251)\n"
     ]
    }
   ],
   "execution_count": 10
  },
  {
   "cell_type": "markdown",
   "id": "e39e62b0",
   "metadata": {
    "pycharm": {
     "name": "#%% md\n"
    }
   },
   "source": [
    "Finally, we fit a WEASEL 2.0 model and do some predictions"
   ]
  },
  {
   "cell_type": "code",
   "id": "e7b739ac",
   "metadata": {
    "pycharm": {
     "name": "#%%\n"
    },
    "ExecuteTime": {
     "end_time": "2025-05-02T11:24:49.741838Z",
     "start_time": "2025-05-02T11:24:48.728897Z"
    }
   },
   "source": [
    "clf = WEASEL_V2(random_state=1379, n_jobs=4)\n",
    "\n",
    "fit_time = time.perf_counter()\n",
    "clf.fit(X_train, y_train)\n",
    "fit_time = np.round(time.perf_counter() - fit_time, 5)\n",
    "\n",
    "pred_time = time.perf_counter()\n",
    "acc = clf.score(X_test, y_test)\n",
    "pred_time = np.round(time.perf_counter() - pred_time, 5)\n",
    "\n",
    "print(\"Accuracy,Fit-Time,Predict-Time,Dictionary-Size\")\n",
    "print(\n",
    "    f\"{np.round(acc, 3)},\"\n",
    "    + f\"{np.round(fit_time, 2)},\"\n",
    "    + f\"{np.round(pred_time, 2)}\"\n",
    "    + f\",{clf.total_features_count}\"\n",
    ")"
   ],
   "outputs": [
    {
     "name": "stdout",
     "output_type": "stream",
     "text": [
      "Accuracy,Fit-Time,Predict-Time,Dictionary-Size\n",
      "0.857,0.35,0.65,18966\n"
     ]
    }
   ],
   "execution_count": 11
  },
  {
   "cell_type": "code",
   "id": "7fd7c935",
   "metadata": {
    "pycharm": {
     "name": "#%%\n"
    },
    "ExecuteTime": {
     "end_time": "2025-05-02T11:24:49.758119Z",
     "start_time": "2025-05-02T11:24:49.756442Z"
    }
   },
   "source": [],
   "outputs": [],
   "execution_count": null
  }
 ],
 "metadata": {
  "kernelspec": {
   "display_name": "Python 3 (ipykernel)",
   "language": "python",
   "name": "python3"
  },
  "language_info": {
   "codemirror_mode": {
    "name": "ipython",
    "version": 3
   },
   "file_extension": ".py",
   "mimetype": "text/x-python",
   "name": "python",
   "nbconvert_exporter": "python",
   "pygments_lexer": "ipython3",
   "version": "3.8.13"
  }
 },
 "nbformat": 4,
 "nbformat_minor": 5
}
